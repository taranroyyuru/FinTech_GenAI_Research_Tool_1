{
 "cells": [
  {
   "cell_type": "code",
   "execution_count": 1,
   "id": "309558bf-bad4-40d8-9cab-b1f70e806171",
   "metadata": {
    "scrolled": true
   },
   "outputs": [
    {
     "name": "stdout",
     "output_type": "stream",
     "text": [
      "/Users/taranroyyuru/anaconda3/envs/faissok/bin/python\n",
      "2.3.1\n"
     ]
    }
   ],
   "source": [
    "# faissdemo env\n",
    "import sys, pandas as pd\n",
    "print(sys.executable)  # should end with .../envs/faissdemo/bin/python\n",
    "print(pd.__version__)"
   ]
  },
  {
   "cell_type": "code",
   "execution_count": 6,
   "id": "869c99dc-b992-4307-8eb0-cd2adb0986bf",
   "metadata": {
    "scrolled": true
   },
   "outputs": [
    {
     "name": "stdout",
     "output_type": "stream",
     "text": [
      "Requirement already satisfied: sentence-transformers in /Users/taranroyyuru/.pyenv/versions/3.11.11/lib/python3.11/site-packages (5.0.0)\n",
      "Requirement already satisfied: transformers<5.0.0,>=4.41.0 in /Users/taranroyyuru/.pyenv/versions/3.11.11/lib/python3.11/site-packages (from sentence-transformers) (4.54.1)\n",
      "Requirement already satisfied: tqdm in /Users/taranroyyuru/.pyenv/versions/3.11.11/lib/python3.11/site-packages (from sentence-transformers) (4.67.1)\n",
      "Requirement already satisfied: torch>=1.11.0 in /Users/taranroyyuru/.pyenv/versions/3.11.11/lib/python3.11/site-packages (from sentence-transformers) (2.6.0)\n",
      "Requirement already satisfied: scikit-learn in /Users/taranroyyuru/.pyenv/versions/3.11.11/lib/python3.11/site-packages (from sentence-transformers) (1.6.1)\n",
      "Requirement already satisfied: scipy in /Users/taranroyyuru/.pyenv/versions/3.11.11/lib/python3.11/site-packages (from sentence-transformers) (1.10.1)\n",
      "Requirement already satisfied: huggingface-hub>=0.20.0 in /Users/taranroyyuru/.pyenv/versions/3.11.11/lib/python3.11/site-packages (from sentence-transformers) (0.34.3)\n",
      "Requirement already satisfied: Pillow in /Users/taranroyyuru/.pyenv/versions/3.11.11/lib/python3.11/site-packages (from sentence-transformers) (11.1.0)\n",
      "Requirement already satisfied: typing_extensions>=4.5.0 in /Users/taranroyyuru/.pyenv/versions/3.11.11/lib/python3.11/site-packages (from sentence-transformers) (4.13.2)\n",
      "Requirement already satisfied: filelock in /Users/taranroyyuru/.pyenv/versions/3.11.11/lib/python3.11/site-packages (from huggingface-hub>=0.20.0->sentence-transformers) (3.18.0)\n",
      "Requirement already satisfied: fsspec>=2023.5.0 in /Users/taranroyyuru/.pyenv/versions/3.11.11/lib/python3.11/site-packages (from huggingface-hub>=0.20.0->sentence-transformers) (2025.3.2)\n",
      "Requirement already satisfied: packaging>=20.9 in /Users/taranroyyuru/.pyenv/versions/3.11.11/lib/python3.11/site-packages (from huggingface-hub>=0.20.0->sentence-transformers) (24.2)\n",
      "Requirement already satisfied: pyyaml>=5.1 in /Users/taranroyyuru/.pyenv/versions/3.11.11/lib/python3.11/site-packages (from huggingface-hub>=0.20.0->sentence-transformers) (6.0.2)\n",
      "Requirement already satisfied: requests in /Users/taranroyyuru/.pyenv/versions/3.11.11/lib/python3.11/site-packages (from huggingface-hub>=0.20.0->sentence-transformers) (2.32.3)\n",
      "Requirement already satisfied: hf-xet<2.0.0,>=1.1.3 in /Users/taranroyyuru/.pyenv/versions/3.11.11/lib/python3.11/site-packages (from huggingface-hub>=0.20.0->sentence-transformers) (1.1.5)\n",
      "Requirement already satisfied: networkx in /Users/taranroyyuru/.pyenv/versions/3.11.11/lib/python3.11/site-packages (from torch>=1.11.0->sentence-transformers) (3.4.2)\n",
      "Requirement already satisfied: jinja2 in /Users/taranroyyuru/.pyenv/versions/3.11.11/lib/python3.11/site-packages (from torch>=1.11.0->sentence-transformers) (3.1.6)\n",
      "Requirement already satisfied: sympy==1.13.1 in /Users/taranroyyuru/.pyenv/versions/3.11.11/lib/python3.11/site-packages (from torch>=1.11.0->sentence-transformers) (1.13.1)\n",
      "Requirement already satisfied: mpmath<1.4,>=1.1.0 in /Users/taranroyyuru/.pyenv/versions/3.11.11/lib/python3.11/site-packages (from sympy==1.13.1->torch>=1.11.0->sentence-transformers) (1.3.0)\n",
      "Requirement already satisfied: numpy>=1.17 in /Users/taranroyyuru/.pyenv/versions/3.11.11/lib/python3.11/site-packages (from transformers<5.0.0,>=4.41.0->sentence-transformers) (1.24.4)\n",
      "Requirement already satisfied: regex!=2019.12.17 in /Users/taranroyyuru/.pyenv/versions/3.11.11/lib/python3.11/site-packages (from transformers<5.0.0,>=4.41.0->sentence-transformers) (2025.7.34)\n",
      "Requirement already satisfied: tokenizers<0.22,>=0.21 in /Users/taranroyyuru/.pyenv/versions/3.11.11/lib/python3.11/site-packages (from transformers<5.0.0,>=4.41.0->sentence-transformers) (0.21.4)\n",
      "Requirement already satisfied: safetensors>=0.4.3 in /Users/taranroyyuru/.pyenv/versions/3.11.11/lib/python3.11/site-packages (from transformers<5.0.0,>=4.41.0->sentence-transformers) (0.5.3)\n",
      "Requirement already satisfied: joblib>=1.2.0 in /Users/taranroyyuru/.pyenv/versions/3.11.11/lib/python3.11/site-packages (from scikit-learn->sentence-transformers) (1.4.2)\n",
      "Requirement already satisfied: threadpoolctl>=3.1.0 in /Users/taranroyyuru/.pyenv/versions/3.11.11/lib/python3.11/site-packages (from scikit-learn->sentence-transformers) (3.6.0)\n",
      "Requirement already satisfied: MarkupSafe>=2.0 in /Users/taranroyyuru/.pyenv/versions/3.11.11/lib/python3.11/site-packages (from jinja2->torch>=1.11.0->sentence-transformers) (3.0.2)\n",
      "Requirement already satisfied: charset-normalizer<4,>=2 in /Users/taranroyyuru/.pyenv/versions/3.11.11/lib/python3.11/site-packages (from requests->huggingface-hub>=0.20.0->sentence-transformers) (3.4.1)\n",
      "Requirement already satisfied: idna<4,>=2.5 in /Users/taranroyyuru/.pyenv/versions/3.11.11/lib/python3.11/site-packages (from requests->huggingface-hub>=0.20.0->sentence-transformers) (3.10)\n",
      "Requirement already satisfied: urllib3<3,>=1.21.1 in /Users/taranroyyuru/.pyenv/versions/3.11.11/lib/python3.11/site-packages (from requests->huggingface-hub>=0.20.0->sentence-transformers) (2.4.0)\n",
      "Requirement already satisfied: certifi>=2017.4.17 in /Users/taranroyyuru/.pyenv/versions/3.11.11/lib/python3.11/site-packages (from requests->huggingface-hub>=0.20.0->sentence-transformers) (2025.6.15)\n",
      "\n",
      "\u001b[1m[\u001b[0m\u001b[34;49mnotice\u001b[0m\u001b[1;39;49m]\u001b[0m\u001b[39;49m A new release of pip is available: \u001b[0m\u001b[31;49m25.0.1\u001b[0m\u001b[39;49m -> \u001b[0m\u001b[32;49m25.2\u001b[0m\n",
      "\u001b[1m[\u001b[0m\u001b[34;49mnotice\u001b[0m\u001b[1;39;49m]\u001b[0m\u001b[39;49m To update, run: \u001b[0m\u001b[32;49mpip install --upgrade pip\u001b[0m\n"
     ]
    }
   ],
   "source": [
    "!pip install sentence-transformers"
   ]
  },
  {
   "cell_type": "code",
   "execution_count": 2,
   "id": "5533c56d-b2f2-4f1c-a193-7a2e0f1af634",
   "metadata": {},
   "outputs": [],
   "source": [
    "import pandas as pd\n",
    "pd.set_option('display.max_colwidth',100)"
   ]
  },
  {
   "cell_type": "code",
   "execution_count": 3,
   "id": "2738740e-722c-4ff1-942f-ffe8ea04c0ff",
   "metadata": {},
   "outputs": [
    {
     "data": {
      "text/plain": [
       "(8, 2)"
      ]
     },
     "execution_count": 3,
     "metadata": {},
     "output_type": "execute_result"
    }
   ],
   "source": [
    "df = pd.read_csv('sample_text (2).csv')\n",
    "df.shape"
   ]
  },
  {
   "cell_type": "code",
   "execution_count": 4,
   "id": "f7233e44-6b1a-47ce-abf1-b005ab6ce364",
   "metadata": {},
   "outputs": [
    {
     "data": {
      "text/html": [
       "<div>\n",
       "<style scoped>\n",
       "    .dataframe tbody tr th:only-of-type {\n",
       "        vertical-align: middle;\n",
       "    }\n",
       "\n",
       "    .dataframe tbody tr th {\n",
       "        vertical-align: top;\n",
       "    }\n",
       "\n",
       "    .dataframe thead th {\n",
       "        text-align: right;\n",
       "    }\n",
       "</style>\n",
       "<table border=\"1\" class=\"dataframe\">\n",
       "  <thead>\n",
       "    <tr style=\"text-align: right;\">\n",
       "      <th></th>\n",
       "      <th>text</th>\n",
       "      <th>category</th>\n",
       "    </tr>\n",
       "  </thead>\n",
       "  <tbody>\n",
       "    <tr>\n",
       "      <th>0</th>\n",
       "      <td>Meditation and yoga can improve mental health</td>\n",
       "      <td>Health</td>\n",
       "    </tr>\n",
       "    <tr>\n",
       "      <th>1</th>\n",
       "      <td>Fruits, whole grains and vegetables helps control blood pressure</td>\n",
       "      <td>Health</td>\n",
       "    </tr>\n",
       "    <tr>\n",
       "      <th>2</th>\n",
       "      <td>These are the latest fashion trends for this week</td>\n",
       "      <td>Fashion</td>\n",
       "    </tr>\n",
       "    <tr>\n",
       "      <th>3</th>\n",
       "      <td>Vibrant color jeans for male are becoming a trend</td>\n",
       "      <td>Fashion</td>\n",
       "    </tr>\n",
       "    <tr>\n",
       "      <th>4</th>\n",
       "      <td>The concert starts at 7 PM tonight</td>\n",
       "      <td>Event</td>\n",
       "    </tr>\n",
       "    <tr>\n",
       "      <th>5</th>\n",
       "      <td>Navaratri dandiya program at Expo center in Mumbai this october</td>\n",
       "      <td>Event</td>\n",
       "    </tr>\n",
       "    <tr>\n",
       "      <th>6</th>\n",
       "      <td>Exciting vacation destinations for your next trip</td>\n",
       "      <td>Travel</td>\n",
       "    </tr>\n",
       "    <tr>\n",
       "      <th>7</th>\n",
       "      <td>Maldives and Srilanka are gaining popularity in terms of low budget vacation places</td>\n",
       "      <td>Travel</td>\n",
       "    </tr>\n",
       "  </tbody>\n",
       "</table>\n",
       "</div>"
      ],
      "text/plain": [
       "                                                                                  text  \\\n",
       "0                                        Meditation and yoga can improve mental health   \n",
       "1                     Fruits, whole grains and vegetables helps control blood pressure   \n",
       "2                                    These are the latest fashion trends for this week   \n",
       "3                                    Vibrant color jeans for male are becoming a trend   \n",
       "4                                                   The concert starts at 7 PM tonight   \n",
       "5                      Navaratri dandiya program at Expo center in Mumbai this october   \n",
       "6                                    Exciting vacation destinations for your next trip   \n",
       "7  Maldives and Srilanka are gaining popularity in terms of low budget vacation places   \n",
       "\n",
       "  category  \n",
       "0   Health  \n",
       "1   Health  \n",
       "2  Fashion  \n",
       "3  Fashion  \n",
       "4    Event  \n",
       "5    Event  \n",
       "6   Travel  \n",
       "7   Travel  "
      ]
     },
     "execution_count": 4,
     "metadata": {},
     "output_type": "execute_result"
    }
   ],
   "source": [
    "df"
   ]
  },
  {
   "cell_type": "code",
   "execution_count": 5,
   "id": "4ce999f0-4b5c-40be-99ab-9059a1fe40a8",
   "metadata": {},
   "outputs": [
    {
     "name": "stdout",
     "output_type": "stream",
     "text": [
      "/Users/taranroyyuru/anaconda3/envs/faissok/bin/python\n"
     ]
    }
   ],
   "source": [
    "import sys\n",
    "print(sys.executable)  # sanity check: should end with .../envs/faissdemo/bin/python"
   ]
  },
  {
   "cell_type": "code",
   "execution_count": 2,
   "id": "c0d9434d-961b-4087-b5d3-0e9c86db5af4",
   "metadata": {
    "scrolled": true
   },
   "outputs": [
    {
     "name": "stdout",
     "output_type": "stream",
     "text": [
      "Requirement already satisfied: sentence-transformers in /Users/taranroyyuru/.pyenv/versions/3.11.11/lib/python3.11/site-packages (5.1.0)\n",
      "Requirement already satisfied: transformers<5.0.0,>=4.41.0 in /Users/taranroyyuru/.pyenv/versions/3.11.11/lib/python3.11/site-packages (from sentence-transformers) (4.54.1)\n",
      "Requirement already satisfied: tqdm in /Users/taranroyyuru/.pyenv/versions/3.11.11/lib/python3.11/site-packages (from sentence-transformers) (4.67.1)\n",
      "Requirement already satisfied: torch>=1.11.0 in /Users/taranroyyuru/.pyenv/versions/3.11.11/lib/python3.11/site-packages (from sentence-transformers) (2.6.0)\n",
      "Requirement already satisfied: scikit-learn in /Users/taranroyyuru/.pyenv/versions/3.11.11/lib/python3.11/site-packages (from sentence-transformers) (1.6.1)\n",
      "Requirement already satisfied: scipy in /Users/taranroyyuru/.pyenv/versions/3.11.11/lib/python3.11/site-packages (from sentence-transformers) (1.10.1)\n",
      "Requirement already satisfied: huggingface-hub>=0.20.0 in /Users/taranroyyuru/.pyenv/versions/3.11.11/lib/python3.11/site-packages (from sentence-transformers) (0.34.3)\n",
      "Requirement already satisfied: Pillow in /Users/taranroyyuru/.pyenv/versions/3.11.11/lib/python3.11/site-packages (from sentence-transformers) (11.1.0)\n",
      "Requirement already satisfied: typing_extensions>=4.5.0 in /Users/taranroyyuru/.pyenv/versions/3.11.11/lib/python3.11/site-packages (from sentence-transformers) (4.13.2)\n",
      "Requirement already satisfied: filelock in /Users/taranroyyuru/.pyenv/versions/3.11.11/lib/python3.11/site-packages (from huggingface-hub>=0.20.0->sentence-transformers) (3.18.0)\n",
      "Requirement already satisfied: fsspec>=2023.5.0 in /Users/taranroyyuru/.pyenv/versions/3.11.11/lib/python3.11/site-packages (from huggingface-hub>=0.20.0->sentence-transformers) (2025.3.2)\n",
      "Requirement already satisfied: packaging>=20.9 in /Users/taranroyyuru/.pyenv/versions/3.11.11/lib/python3.11/site-packages (from huggingface-hub>=0.20.0->sentence-transformers) (24.2)\n",
      "Requirement already satisfied: pyyaml>=5.1 in /Users/taranroyyuru/.pyenv/versions/3.11.11/lib/python3.11/site-packages (from huggingface-hub>=0.20.0->sentence-transformers) (6.0.2)\n",
      "Requirement already satisfied: requests in /Users/taranroyyuru/.pyenv/versions/3.11.11/lib/python3.11/site-packages (from huggingface-hub>=0.20.0->sentence-transformers) (2.32.3)\n",
      "Requirement already satisfied: hf-xet<2.0.0,>=1.1.3 in /Users/taranroyyuru/.pyenv/versions/3.11.11/lib/python3.11/site-packages (from huggingface-hub>=0.20.0->sentence-transformers) (1.1.5)\n",
      "Requirement already satisfied: networkx in /Users/taranroyyuru/.pyenv/versions/3.11.11/lib/python3.11/site-packages (from torch>=1.11.0->sentence-transformers) (3.4.2)\n",
      "Requirement already satisfied: jinja2 in /Users/taranroyyuru/.pyenv/versions/3.11.11/lib/python3.11/site-packages (from torch>=1.11.0->sentence-transformers) (3.1.6)\n",
      "Requirement already satisfied: sympy==1.13.1 in /Users/taranroyyuru/.pyenv/versions/3.11.11/lib/python3.11/site-packages (from torch>=1.11.0->sentence-transformers) (1.13.1)\n",
      "Requirement already satisfied: mpmath<1.4,>=1.1.0 in /Users/taranroyyuru/.pyenv/versions/3.11.11/lib/python3.11/site-packages (from sympy==1.13.1->torch>=1.11.0->sentence-transformers) (1.3.0)\n",
      "Requirement already satisfied: numpy>=1.17 in /Users/taranroyyuru/.pyenv/versions/3.11.11/lib/python3.11/site-packages (from transformers<5.0.0,>=4.41.0->sentence-transformers) (1.24.4)\n",
      "Requirement already satisfied: regex!=2019.12.17 in /Users/taranroyyuru/.pyenv/versions/3.11.11/lib/python3.11/site-packages (from transformers<5.0.0,>=4.41.0->sentence-transformers) (2025.7.34)\n",
      "Requirement already satisfied: tokenizers<0.22,>=0.21 in /Users/taranroyyuru/.pyenv/versions/3.11.11/lib/python3.11/site-packages (from transformers<5.0.0,>=4.41.0->sentence-transformers) (0.21.4)\n",
      "Requirement already satisfied: safetensors>=0.4.3 in /Users/taranroyyuru/.pyenv/versions/3.11.11/lib/python3.11/site-packages (from transformers<5.0.0,>=4.41.0->sentence-transformers) (0.5.3)\n",
      "Requirement already satisfied: joblib>=1.2.0 in /Users/taranroyyuru/.pyenv/versions/3.11.11/lib/python3.11/site-packages (from scikit-learn->sentence-transformers) (1.4.2)\n",
      "Requirement already satisfied: threadpoolctl>=3.1.0 in /Users/taranroyyuru/.pyenv/versions/3.11.11/lib/python3.11/site-packages (from scikit-learn->sentence-transformers) (3.6.0)\n",
      "Requirement already satisfied: MarkupSafe>=2.0 in /Users/taranroyyuru/.pyenv/versions/3.11.11/lib/python3.11/site-packages (from jinja2->torch>=1.11.0->sentence-transformers) (3.0.2)\n",
      "Requirement already satisfied: charset-normalizer<4,>=2 in /Users/taranroyyuru/.pyenv/versions/3.11.11/lib/python3.11/site-packages (from requests->huggingface-hub>=0.20.0->sentence-transformers) (3.4.1)\n",
      "Requirement already satisfied: idna<4,>=2.5 in /Users/taranroyyuru/.pyenv/versions/3.11.11/lib/python3.11/site-packages (from requests->huggingface-hub>=0.20.0->sentence-transformers) (3.10)\n",
      "Requirement already satisfied: urllib3<3,>=1.21.1 in /Users/taranroyyuru/.pyenv/versions/3.11.11/lib/python3.11/site-packages (from requests->huggingface-hub>=0.20.0->sentence-transformers) (2.4.0)\n",
      "Requirement already satisfied: certifi>=2017.4.17 in /Users/taranroyyuru/.pyenv/versions/3.11.11/lib/python3.11/site-packages (from requests->huggingface-hub>=0.20.0->sentence-transformers) (2025.6.15)\n",
      "\n",
      "\u001b[1m[\u001b[0m\u001b[34;49mnotice\u001b[0m\u001b[1;39;49m]\u001b[0m\u001b[39;49m A new release of pip is available: \u001b[0m\u001b[31;49m25.0.1\u001b[0m\u001b[39;49m -> \u001b[0m\u001b[32;49m25.2\u001b[0m\n",
      "\u001b[1m[\u001b[0m\u001b[34;49mnotice\u001b[0m\u001b[1;39;49m]\u001b[0m\u001b[39;49m To update, run: \u001b[0m\u001b[32;49mpip install --upgrade pip\u001b[0m\n"
     ]
    }
   ],
   "source": [
    "# install into THIS interpreter (faissdemo), not pyenv\n",
    "!{sys.executable} -m pip install -U sentence-transformers"
   ]
  },
  {
   "cell_type": "code",
   "execution_count": 6,
   "id": "b96df433-e15a-44fe-9ce5-6c24eb32dc3f",
   "metadata": {},
   "outputs": [
    {
     "name": "stderr",
     "output_type": "stream",
     "text": [
      "/Users/taranroyyuru/anaconda3/envs/faissok/lib/python3.10/site-packages/tqdm/auto.py:21: TqdmWarning: IProgress not found. Please update jupyter and ipywidgets. See https://ipywidgets.readthedocs.io/en/stable/user_install.html\n",
      "  from .autonotebook import tqdm as notebook_tqdm\n"
     ]
    },
    {
     "name": "stdout",
     "output_type": "stream",
     "text": [
      "(8, 768)\n"
     ]
    }
   ],
   "source": [
    "from sentence_transformers import SentenceTransformer\n",
    "\n",
    "# Load the model\n",
    "encoder = SentenceTransformer(\"all-mpnet-base-v2\")\n",
    "vectors = encoder.encode(df.text)\n",
    "print(vectors.shape)  # Should be (5, 768)\n"
   ]
  },
  {
   "cell_type": "code",
   "execution_count": 7,
   "id": "62fe8550-7ee7-47e7-b8d7-b4dbb3a5591c",
   "metadata": {},
   "outputs": [
    {
     "data": {
      "text/plain": [
       "array([[-0.0024739 ,  0.03626726, -0.05290465, ..., -0.09152354,\n",
       "        -0.03970006, -0.04330487],\n",
       "       [-0.03357262,  0.0098052 , -0.03250131, ..., -0.05165471,\n",
       "         0.0224589 , -0.03156184],\n",
       "       [-0.01865329, -0.04051305, -0.01235392, ...,  0.00610589,\n",
       "        -0.07179649,  0.02773848],\n",
       "       ...,\n",
       "       [-0.00066455,  0.04252124, -0.05645504, ...,  0.01315467,\n",
       "        -0.03183552, -0.04357661],\n",
       "       [-0.03317155,  0.03252465, -0.0248484 , ...,  0.01174424,\n",
       "         0.05747124,  0.00571022],\n",
       "       [-0.00166394,  0.00413829, -0.04597079, ...,  0.02008529,\n",
       "         0.05656245, -0.00161593]], dtype=float32)"
      ]
     },
     "execution_count": 7,
     "metadata": {},
     "output_type": "execute_result"
    }
   ],
   "source": [
    "vectors"
   ]
  },
  {
   "cell_type": "code",
   "execution_count": 8,
   "id": "715cae8f-5eed-4411-96f3-29c5942513e4",
   "metadata": {},
   "outputs": [
    {
     "data": {
      "text/plain": [
       "array([-3.35726216e-02,  9.80519969e-03, -3.25013138e-02,  1.86820347e-02,\n",
       "        1.77041031e-02, -3.62626798e-02, -3.62390541e-02,  7.10840076e-02,\n",
       "        2.47629397e-02,  2.63498705e-02, -1.21430808e-03, -1.13374870e-02,\n",
       "       -1.15268761e-02,  1.43791214e-02, -4.38231565e-02, -2.79518813e-02,\n",
       "        1.75678488e-02, -4.70073288e-03,  8.76718014e-02,  4.92541702e-04,\n",
       "       -4.46607843e-02, -3.32105793e-02, -1.42118586e-02,  2.29377430e-02,\n",
       "       -8.52668006e-03, -2.48497142e-03,  8.57960712e-03,  2.66634934e-02,\n",
       "        2.85466090e-02, -2.94708479e-02, -4.25882116e-02,  1.92414708e-02,\n",
       "       -2.21508611e-02, -5.22682928e-02,  9.17420095e-07, -2.53167637e-02,\n",
       "       -5.45516647e-02,  6.14560954e-02, -1.15586519e-02,  1.64796934e-02,\n",
       "        6.12011121e-04, -6.41634092e-02, -2.64592357e-02,  2.86634564e-02,\n",
       "       -7.40524381e-03, -3.89426798e-02, -8.28341057e-04,  1.00291796e-01,\n",
       "       -6.97326334e-03,  2.48220544e-02,  1.85312517e-02, -5.47107030e-03,\n",
       "        2.40095332e-02, -1.84511170e-02,  4.09859009e-02, -2.26923134e-02,\n",
       "        2.95914914e-02,  1.59888864e-02,  2.98419334e-02,  6.38907850e-02,\n",
       "        2.58491617e-02, -3.26031372e-02, -8.26757122e-03,  5.34259826e-02,\n",
       "       -4.43783477e-02, -9.29067936e-03, -2.35451832e-02, -6.82238191e-02,\n",
       "        1.14496006e-02,  4.07651514e-02, -4.92770597e-02,  2.56418455e-02,\n",
       "        7.01447353e-02, -3.31851095e-02,  1.11843934e-02, -2.03785263e-02,\n",
       "        8.65226891e-03, -1.02375094e-02, -3.91493998e-02, -4.53195255e-03,\n",
       "        6.19241074e-02, -1.92383472e-02, -7.00166356e-03, -3.73338312e-02,\n",
       "        2.08828021e-02, -3.45125259e-03,  1.20091289e-02,  8.63274094e-03,\n",
       "        2.55907588e-02, -7.73479696e-04, -2.50836927e-02, -1.45644033e-02,\n",
       "        2.38881316e-02, -1.44668231e-02,  4.12997417e-02, -1.22156870e-02,\n",
       "        2.48460658e-02, -1.27593346e-03,  7.00064655e-03, -6.49262145e-02,\n",
       "        2.03953609e-02,  6.89087287e-02,  1.03071677e-02, -7.91795552e-03,\n",
       "       -9.52256098e-03, -2.54794955e-02, -2.35272329e-02,  4.67379987e-02,\n",
       "        3.67013328e-02,  1.30289765e-02, -2.51294114e-02, -3.32408771e-03,\n",
       "       -4.83351871e-02, -1.34264957e-02,  5.17111383e-02,  8.55914038e-03,\n",
       "       -1.43931378e-02, -3.62585410e-02, -2.90623065e-02, -2.76030786e-02,\n",
       "       -2.99809016e-02, -2.20756494e-02,  4.96576391e-02, -3.21928971e-02,\n",
       "       -9.27774794e-03,  1.07672498e-01,  6.93933759e-03, -2.09447574e-02,\n",
       "       -1.50243454e-02, -7.78930821e-03, -4.06215945e-03, -9.77014098e-03,\n",
       "        1.80494506e-02,  3.87828276e-02,  6.88608438e-02, -1.21669834e-02,\n",
       "        1.63725913e-02,  2.72275209e-02, -1.64797253e-04, -5.20296618e-02,\n",
       "        5.57818916e-03,  6.28697649e-02,  4.01385501e-02,  2.15966515e-02,\n",
       "        1.60552654e-02, -6.71956316e-02,  6.08031638e-02,  2.02237125e-02,\n",
       "       -1.00795850e-02,  3.07943728e-02, -5.42100705e-02, -2.35007405e-02,\n",
       "        6.47096038e-02,  4.73307669e-02, -1.16420956e-02,  1.20284725e-02,\n",
       "       -1.03533582e-03,  8.15597130e-04,  3.34850177e-02, -3.34856799e-03,\n",
       "       -1.36474855e-02,  1.85880940e-02,  6.27384463e-04,  2.10219920e-02,\n",
       "        2.19755415e-02, -6.37721568e-02, -4.20541354e-02,  1.11973137e-02,\n",
       "        2.76469309e-02, -2.06915848e-02,  1.17304623e-02,  1.21851899e-02,\n",
       "       -2.80877971e-03,  3.82273272e-03,  4.42134179e-02,  2.25185463e-03,\n",
       "        1.64211914e-02,  4.04513516e-02, -1.79602243e-02, -7.82542452e-02,\n",
       "        5.79525679e-02,  1.68868080e-02, -1.76529530e-02,  4.30391319e-02,\n",
       "       -1.27998814e-02,  7.48296753e-02, -8.10292438e-02, -6.17439905e-03,\n",
       "       -2.06080861e-02,  1.14899576e-02, -2.12890822e-02,  1.01898173e-02,\n",
       "       -4.45387996e-04, -5.92542849e-02,  1.08465590e-02,  2.14393269e-02,\n",
       "       -4.67463490e-03,  5.09274844e-03,  2.59107165e-02, -1.23140158e-03,\n",
       "        3.46984304e-02,  4.84393165e-02,  4.25012957e-04, -5.86431809e-02,\n",
       "       -1.03664892e-02, -1.32832825e-02,  5.68064749e-02, -2.38216799e-02,\n",
       "        6.42868578e-02,  1.16532645e-03, -8.26229807e-03, -2.17430778e-02,\n",
       "        2.42559798e-02, -1.78288110e-02,  2.32254509e-02,  1.09582823e-02,\n",
       "       -2.69016959e-02,  1.30435862e-02, -1.92239601e-02, -4.67372648e-02,\n",
       "       -1.19906776e-02,  6.35162974e-03, -3.37472670e-02, -1.60461683e-02,\n",
       "       -2.21640430e-02,  3.27045657e-02,  1.85040161e-02,  1.92524232e-02,\n",
       "       -1.62674915e-02, -3.93539816e-02,  1.11170812e-03,  5.33456914e-02,\n",
       "       -2.80958991e-02,  3.41474675e-02,  2.11112294e-02, -1.97415538e-02,\n",
       "        3.02267559e-02,  2.78305560e-02, -1.52913006e-02,  1.05082197e-02,\n",
       "       -2.53358874e-02, -1.49587663e-02, -1.86072942e-02, -1.70139095e-03,\n",
       "       -6.39693365e-02,  1.89982951e-02,  6.96380809e-03,  2.15710420e-02,\n",
       "       -8.01059082e-02,  3.16441208e-02,  6.58218656e-03,  2.29354557e-02,\n",
       "       -6.36438727e-02,  4.40608710e-02, -4.14928868e-02,  2.03897897e-02,\n",
       "       -4.32550088e-02, -7.20882230e-03,  5.76045774e-02,  4.60608825e-02,\n",
       "        1.07085966e-02, -1.04496935e-02,  1.93596277e-02,  3.72252539e-02,\n",
       "        3.87211293e-02, -1.61042083e-02, -1.93750039e-02, -1.58328582e-02,\n",
       "       -2.59766392e-02, -3.51572670e-02, -1.05289323e-02,  5.26696956e-03,\n",
       "        5.22579327e-02,  2.88645457e-02, -3.21052559e-02, -2.01181509e-02,\n",
       "        6.11136891e-02,  2.03792863e-02,  4.92633879e-02, -2.09875517e-02,\n",
       "       -1.23223970e-02,  8.61942172e-02,  7.55282715e-02,  5.98213226e-02,\n",
       "        5.40041290e-02,  2.02723849e-03, -2.26159394e-02,  1.46394828e-02,\n",
       "        1.10510685e-01, -4.29654643e-02,  3.88652943e-02,  1.33246034e-02,\n",
       "        1.54907042e-02,  5.04895598e-02, -3.91640738e-02,  6.13814108e-02,\n",
       "        5.43447137e-02, -3.36848162e-02,  1.85182691e-02, -1.10968657e-01,\n",
       "       -2.50393655e-02, -3.84914875e-03,  4.61405739e-02,  1.21499617e-02,\n",
       "       -1.56652499e-02,  3.85172069e-02,  1.91747509e-02,  3.39069329e-02,\n",
       "       -2.96352599e-02,  4.14793789e-02,  2.15318576e-02,  2.93097124e-02,\n",
       "        1.71868317e-02, -3.59830931e-02,  2.18271036e-02,  4.28997502e-02,\n",
       "       -5.75205907e-02, -1.92242693e-02,  2.12443713e-02,  2.04696693e-03,\n",
       "       -5.68148121e-03,  2.48145834e-02, -3.16320546e-02, -4.43522893e-02,\n",
       "        2.27882527e-02, -3.34305078e-04,  8.58256500e-03, -4.02721390e-02,\n",
       "       -3.79484072e-02, -4.34353054e-02,  1.28200091e-03,  2.07371023e-02,\n",
       "        7.17612952e-02,  1.84784760e-03,  3.51873711e-02,  8.62416439e-03,\n",
       "        1.60184465e-02,  5.75456992e-02, -1.25773875e-02,  1.02894707e-02,\n",
       "       -1.69317853e-02, -9.37230960e-02, -3.49837020e-02, -2.44942233e-02,\n",
       "        1.23326909e-02,  1.46685708e-02,  4.08048742e-02,  2.50651524e-03,\n",
       "        5.45818359e-02,  2.91737057e-02, -5.39813703e-03, -2.85476279e-02,\n",
       "       -2.34896205e-02, -1.07575499e-03,  4.24928556e-04, -6.98285177e-02,\n",
       "        1.25891678e-02, -3.92433815e-03, -4.81125936e-02,  1.90331433e-02,\n",
       "        6.65115053e-03, -3.88477952e-03, -1.05894590e-02, -5.17404303e-02,\n",
       "        5.32847382e-02, -8.30334052e-03, -8.85904883e-04, -9.18872375e-03,\n",
       "       -7.28049409e-03,  5.55173960e-03, -1.56909283e-02,  3.09270825e-02,\n",
       "       -4.40982468e-02,  1.02480631e-02,  1.52976783e-02, -1.30980276e-02,\n",
       "        2.13123951e-02, -6.71373084e-02, -1.81569085e-02,  3.22471373e-02,\n",
       "        2.95264237e-02,  5.68893878e-03,  2.05119178e-02,  6.43815007e-03,\n",
       "       -2.22544149e-02,  2.13126354e-02,  3.21273804e-02, -6.24837279e-02,\n",
       "        1.68939009e-02, -6.13405257e-02,  1.47031592e-02, -1.53157534e-02,\n",
       "       -1.03137025e-03, -2.83481721e-02, -2.39032414e-02, -1.70184709e-02,\n",
       "        1.88786332e-02, -7.34044015e-02, -5.25554717e-02,  1.53818103e-02,\n",
       "        1.30273737e-02, -3.96440774e-02,  5.24451546e-02, -2.49939933e-02,\n",
       "        2.74956413e-02,  3.60509232e-02,  5.73946051e-02,  2.25475356e-02,\n",
       "        3.25942710e-02,  8.90982989e-03,  5.43262400e-02,  2.10294593e-02,\n",
       "        2.16910746e-02, -3.01539041e-02,  2.19048164e-03,  3.80707048e-02,\n",
       "        4.07610871e-02,  7.83905163e-02,  5.29225208e-02, -4.02740240e-02,\n",
       "       -7.14953914e-02,  5.61715811e-02, -5.62878735e-02,  4.30115089e-02,\n",
       "       -1.81321464e-02, -7.10931141e-03,  5.61597683e-02, -1.29609481e-02,\n",
       "       -6.05658926e-02,  1.40673071e-02,  4.54457961e-02,  3.30817476e-02,\n",
       "       -4.44651954e-03, -1.04194552e-01,  6.20513335e-02, -8.04486219e-03,\n",
       "        2.53955759e-02, -5.35988882e-02, -2.87734205e-03,  5.55382930e-02,\n",
       "       -4.69395425e-03,  3.03411949e-02,  3.86409499e-02, -3.07783596e-02,\n",
       "        3.70678231e-02,  7.07896575e-02,  1.62174199e-02,  1.07857965e-01,\n",
       "       -4.73799706e-02, -1.05365291e-02, -9.48566105e-03,  5.85111566e-02,\n",
       "        2.26293243e-02, -5.49717457e-04, -3.41104381e-02, -8.44274927e-03,\n",
       "        2.09487509e-02, -2.25967150e-02,  7.02017024e-02, -1.75867472e-02,\n",
       "        4.84230518e-02,  3.07196728e-03,  4.45459150e-02,  2.11489648e-02,\n",
       "        5.86256105e-03, -2.15045772e-02, -1.92374811e-02,  2.49662288e-02,\n",
       "        7.70030543e-03, -5.85462302e-02, -4.48393542e-03,  2.40318999e-02,\n",
       "       -2.65540695e-03, -1.13359783e-02,  5.13387136e-02, -6.58841617e-03,\n",
       "       -4.52473275e-02,  2.38738395e-02, -6.40834719e-02,  4.75435564e-03,\n",
       "       -3.28243263e-02,  1.94961317e-02, -5.79637568e-03, -6.90021142e-02,\n",
       "       -1.13662556e-02,  3.52125242e-02, -6.56303465e-02, -1.65679995e-02,\n",
       "        1.50974486e-02,  7.77235106e-02, -4.23436686e-02,  7.64397532e-03,\n",
       "        1.68971550e-02, -6.57750219e-02, -1.03674466e-02, -1.54937450e-02,\n",
       "       -6.73222691e-02, -1.95327718e-02, -2.35323291e-02,  2.75447704e-02,\n",
       "       -5.01310118e-02, -2.43231207e-02,  4.12268899e-02,  5.34089692e-02,\n",
       "        1.23127447e-02,  1.25193717e-02, -1.95430536e-02,  4.38058339e-02,\n",
       "        2.56417729e-02, -1.93017703e-02, -5.73117025e-02, -2.95281019e-02,\n",
       "       -1.08611889e-01,  1.43510839e-02,  3.20817344e-02,  9.96927321e-02,\n",
       "        6.22827038e-02,  1.15521112e-02, -1.72614604e-02, -2.42948290e-02,\n",
       "       -7.28661241e-03, -2.44392473e-02,  1.16017051e-02,  4.81275320e-02,\n",
       "        4.65637975e-04,  4.60677110e-02, -2.64352150e-02,  2.17288639e-03,\n",
       "       -3.03759798e-02,  3.96300852e-02, -1.91512890e-02, -2.66074128e-02,\n",
       "        5.60491681e-02, -5.37889004e-02, -8.28451384e-03,  2.28182003e-02,\n",
       "       -1.35340039e-02,  5.61505035e-02, -5.94902085e-03,  1.97245851e-02,\n",
       "        2.47826753e-03, -2.38718074e-02,  4.05480713e-02,  4.94958051e-02,\n",
       "        3.03312894e-02, -4.49723415e-02, -8.13962966e-02, -7.77650904e-03,\n",
       "       -4.09912951e-02, -9.98653751e-03,  2.02551056e-02,  9.42017976e-03,\n",
       "       -1.03325494e-01,  1.56904571e-02, -7.34916562e-03, -4.28104133e-33,\n",
       "        1.84916088e-03,  2.49899626e-02,  4.30825353e-02, -1.80867140e-03,\n",
       "        1.06527179e-01,  5.75298890e-02,  2.23686383e-03, -8.82523041e-03,\n",
       "       -2.76356786e-02,  4.49949764e-02, -7.76133761e-02, -4.94545475e-02,\n",
       "        4.29600338e-03, -6.67969808e-02, -1.07111316e-02, -3.80072892e-02,\n",
       "        2.97379121e-03,  1.90952176e-03, -2.09461786e-02, -3.26110572e-02,\n",
       "       -6.88911974e-02,  3.32696512e-02, -4.44097891e-02,  7.68893510e-02,\n",
       "        1.98381729e-02,  4.43438143e-02,  1.16209518e-02, -3.89219890e-03,\n",
       "       -8.83538369e-03,  3.02967560e-02,  2.04689894e-02, -2.44679954e-03,\n",
       "        7.54145021e-03, -1.81706045e-02, -1.13567626e-02,  2.20167506e-02,\n",
       "       -3.76539901e-02,  7.88016245e-03, -2.76779383e-03, -4.65983450e-02,\n",
       "       -2.39179246e-02,  4.27089706e-02,  1.27477152e-02, -3.49134067e-03,\n",
       "       -1.73231633e-03,  5.32704522e-04,  1.37985498e-02, -5.88246733e-02,\n",
       "       -2.32382640e-02, -8.74423981e-03, -1.77632291e-02, -1.31566320e-02,\n",
       "        3.03805787e-02,  4.22015414e-02, -6.73775375e-03,  1.11841001e-02,\n",
       "       -8.27121641e-03, -3.78280953e-02, -1.24693559e-02, -4.14636917e-02,\n",
       "       -1.26112194e-03,  4.64668982e-02, -7.82364830e-02,  2.05411091e-02,\n",
       "       -7.02483207e-03, -1.06605748e-02, -4.50240821e-02, -4.22418974e-02,\n",
       "       -2.15091603e-03, -2.40540337e-02, -4.69919965e-02, -6.05252832e-02,\n",
       "        5.82414009e-02,  2.95025334e-02, -7.44163571e-03, -1.00766234e-01,\n",
       "       -3.92184332e-02,  3.07860039e-02,  4.28362517e-03, -7.42603764e-02,\n",
       "       -5.22072129e-02, -3.43479007e-03,  3.15366760e-02,  3.49473245e-02,\n",
       "       -6.93784794e-03,  7.32732378e-03, -3.23810205e-02, -1.72192026e-02,\n",
       "       -3.54516432e-02, -1.90520734e-02,  2.62780506e-02,  1.63122676e-02,\n",
       "        4.35292050e-02,  1.06644044e-02, -2.23603323e-02,  3.37389894e-02,\n",
       "       -6.16680272e-03, -8.26238021e-02,  2.66043060e-02, -8.35093856e-03,\n",
       "       -1.83438677e-02,  2.00079987e-03,  5.02546541e-02,  3.45277600e-02,\n",
       "       -3.72372940e-02,  2.92173643e-02,  1.72078668e-03, -1.58035420e-02,\n",
       "        1.14710294e-02, -1.25145270e-02, -4.20715623e-02,  4.86483946e-02,\n",
       "        2.28662677e-02, -4.68053715e-03, -4.26828489e-02, -1.28418710e-02,\n",
       "        7.45493323e-02,  3.06699388e-02,  1.45302219e-02, -6.23452403e-02,\n",
       "       -1.26675386e-02,  3.36178914e-02,  6.05069920e-02, -3.02765798e-02,\n",
       "       -3.71763520e-02, -4.64073122e-02,  8.39665160e-02,  9.42523591e-03,\n",
       "       -3.21013629e-02,  8.08131881e-03,  5.02914935e-02,  1.75022632e-02,\n",
       "        1.57571677e-07, -1.98555011e-02, -2.83060018e-02,  2.90523209e-02,\n",
       "       -3.78218405e-02, -5.00641279e-02,  4.02772846e-03, -1.18794804e-02,\n",
       "       -1.46823237e-02,  1.81088429e-02,  2.68273875e-02,  9.23961494e-03,\n",
       "       -2.70948838e-02,  2.32515461e-03, -1.62716769e-02,  3.18160318e-02,\n",
       "       -3.51314768e-02, -2.04744879e-02, -4.17290814e-02,  1.66734830e-02,\n",
       "       -3.71345840e-02,  4.71012779e-02,  1.73170213e-02, -5.56523576e-02,\n",
       "       -4.02241424e-02, -5.00142388e-02,  4.97486591e-02, -1.61510967e-02,\n",
       "       -6.62213983e-03, -4.74094860e-02, -3.85605730e-02,  1.55845433e-02,\n",
       "        4.09967685e-03,  1.63188595e-02, -3.17491703e-02, -6.53794035e-02,\n",
       "       -2.32730489e-02, -2.41439752e-02, -2.17097383e-02, -4.34638225e-02,\n",
       "        5.88003919e-02,  8.67549796e-03,  5.04563265e-02, -1.48966657e-02,\n",
       "       -3.00932694e-02, -4.45596362e-03, -4.09635603e-02, -4.19239029e-02,\n",
       "       -4.22753543e-02,  1.00178480e-01, -2.62382459e-02, -3.23649077e-03,\n",
       "        3.29557844e-02, -3.81885143e-03, -1.64519548e-02, -3.44150364e-02,\n",
       "        2.69219112e-02, -3.18483301e-02,  5.79120126e-03,  5.21225519e-02,\n",
       "       -5.56408651e-02,  2.18991525e-02,  1.57099292e-02,  7.62979081e-03,\n",
       "       -1.67025309e-02, -6.40241615e-03,  4.05184999e-02, -4.84587923e-02,\n",
       "        1.24100428e-34, -3.20822820e-02, -5.96444458e-02, -1.55760879e-02,\n",
       "       -5.08974604e-02,  1.69497896e-02,  6.91899704e-03,  8.61435570e-03,\n",
       "        6.02010265e-02, -5.16547076e-02,  2.24589035e-02, -3.15618441e-02],\n",
       "      dtype=float32)"
      ]
     },
     "execution_count": 8,
     "metadata": {},
     "output_type": "execute_result"
    }
   ],
   "source": [
    "vectors[1]"
   ]
  },
  {
   "cell_type": "code",
   "execution_count": 9,
   "id": "b7fd0676-e7bd-4a77-8c84-cb96257e6879",
   "metadata": {},
   "outputs": [
    {
     "data": {
      "text/plain": [
       "768"
      ]
     },
     "execution_count": 9,
     "metadata": {},
     "output_type": "execute_result"
    }
   ],
   "source": [
    "vectors.shape[1]"
   ]
  },
  {
   "cell_type": "code",
   "execution_count": 10,
   "id": "5e212d6b-2d35-425b-8b61-7c39b2989a81",
   "metadata": {},
   "outputs": [
    {
     "data": {
      "text/plain": [
       "768"
      ]
     },
     "execution_count": 10,
     "metadata": {},
     "output_type": "execute_result"
    }
   ],
   "source": [
    "dim = vectors.shape[1]\n",
    "dim"
   ]
  },
  {
   "cell_type": "code",
   "execution_count": 11,
   "id": "e3853545-78f9-4ae2-8b17-f05b0699001a",
   "metadata": {},
   "outputs": [
    {
     "name": "stdout",
     "output_type": "stream",
     "text": [
      "/Users/taranroyyuru/anaconda3/envs/faissok/bin/python\n"
     ]
    },
    {
     "name": "stderr",
     "output_type": "stream",
     "text": [
      "huggingface/tokenizers: The current process just got forked, after parallelism has already been used. Disabling parallelism to avoid deadlocks...\n",
      "To disable this warning, you can either:\n",
      "\t- Avoid using `tokenizers` before the fork if possible\n",
      "\t- Explicitly set the environment variable TOKENIZERS_PARALLELISM=(true | false)\n"
     ]
    },
    {
     "name": "stdout",
     "output_type": "stream",
     "text": [
      "Collecting faiss-cpu\n",
      "  Using cached faiss_cpu-1.11.0.post1.tar.gz (70 kB)\n",
      "  Installing build dependencies ... \u001b[done\n",
      "\u001b[?25h  Getting requirements to build wheel ... \u001b[?25ldone\n",
      "\u001b[?25h  Preparing metadata (pyproject.toml) ... \u001b[?25ldone\n",
      "\u001b[?25hRequirement already satisfied: numpy<3.0,>=1.25.0 in /Users/taranroyyuru/anaconda3/envs/faissok/lib/python3.10/site-packages (from faiss-cpu) (1.26.4)\n",
      "Requirement already satisfied: packaging in /Users/taranroyyuru/anaconda3/envs/faissok/lib/python3.10/site-packages (from faiss-cpu) (25.0)\n",
      "Building wheels for collected packages: faiss-cpu\n",
      "  Building wheel for faiss-cpu (pyproject.toml) ... \u001b[?25lerror\n",
      "  \u001b[1;31merror\u001b[0m: \u001b[1msubprocess-exited-with-error\u001b[0m\n",
      "  \n",
      "  \u001b[31m×\u001b[0m \u001b[32mBuilding wheel for faiss-cpu \u001b[0m\u001b[1;32m(\u001b[0m\u001b[32mpyproject.toml\u001b[0m\u001b[1;32m)\u001b[0m did not run successfully.\n",
      "  \u001b[31m│\u001b[0m exit code: \u001b[1;36m1\u001b[0m\n",
      "  \u001b[31m╰─>\u001b[0m \u001b[31m[105 lines of output]\u001b[0m\n",
      "  \u001b[31m   \u001b[0m running bdist_wheel\n",
      "  \u001b[31m   \u001b[0m running build\n",
      "  \u001b[31m   \u001b[0m running build_py\n",
      "  \u001b[31m   \u001b[0m running build_ext\n",
      "  \u001b[31m   \u001b[0m building 'faiss._swigfaiss' extension\n",
      "  \u001b[31m   \u001b[0m swigging faiss/faiss/python/swigfaiss.i to faiss/faiss/python/swigfaiss_wrap.cpp\n",
      "  \u001b[31m   \u001b[0m swig -python -c++ -Doverride= -doxygen -Ifaiss -I/private/var/folders/jl/n_6k8qzd56lfnys7xqk8d5600000gn/T/pip-build-env-wwy45956/overlay/lib/python3.10/site-packages/numpy/_core/include -Ifaiss -I/usr/local/include -o faiss/faiss/python/swigfaiss_wrap.cpp faiss/faiss/python/swigfaiss.i\n",
      "  \u001b[31m   \u001b[0m faiss/faiss/python/swigfaiss.i:312: Error: Unable to find 'faiss/impl/platform_macros.h'\n",
      "  \u001b[31m   \u001b[0m faiss/faiss/python/swigfaiss.i:316: Error: Unable to find 'faiss/utils/ordered_key_value.h'\n",
      "  \u001b[31m   \u001b[0m faiss/faiss/python/swigfaiss.i:317: Error: Unable to find 'faiss/utils/Heap.h'\n",
      "  \u001b[31m   \u001b[0m faiss/faiss/python/swigfaiss.i:322: Error: Unable to find 'faiss/utils/AlignedTable.h'\n",
      "  \u001b[31m   \u001b[0m faiss/faiss/python/swigfaiss.i:323: Error: Unable to find 'faiss/utils/partitioning.h'\n",
      "  \u001b[31m   \u001b[0m faiss/faiss/python/swigfaiss.i:324: Error: Unable to find 'faiss/utils/hamming.h'\n",
      "  \u001b[31m   \u001b[0m faiss/faiss/python/swigfaiss.i:325: Error: Unable to find 'faiss/utils/hamming_distance/common.h'\n",
      "  \u001b[31m   \u001b[0m faiss/faiss/python/swigfaiss.i:505: Error: Unable to find 'faiss/utils/utils.h'\n",
      "  \u001b[31m   \u001b[0m faiss/faiss/python/swigfaiss.i:509: Error: Unable to find 'faiss/utils/distances.h'\n",
      "  \u001b[31m   \u001b[0m faiss/faiss/python/swigfaiss.i:510: Error: Unable to find 'faiss/utils/random.h'\n",
      "  \u001b[31m   \u001b[0m faiss/faiss/python/swigfaiss.i:511: Error: Unable to find 'faiss/utils/sorting.h'\n",
      "  \u001b[31m   \u001b[0m faiss/faiss/python/swigfaiss.i:513: Error: Unable to find 'faiss/MetricType.h'\n",
      "  \u001b[31m   \u001b[0m faiss/faiss/python/swigfaiss.i:518: Error: Unable to find 'faiss/Index.h'\n",
      "  \u001b[31m   \u001b[0m faiss/faiss/python/swigfaiss.i:520: Error: Unable to find 'faiss/impl/DistanceComputer.h'\n",
      "  \u001b[31m   \u001b[0m faiss/faiss/python/swigfaiss.i:522: Error: Unable to find 'faiss/impl/io.h'\n",
      "  \u001b[31m   \u001b[0m faiss/faiss/python/swigfaiss.i:526: Error: Unable to find 'faiss/impl/maybe_owned_vector.h'\n",
      "  \u001b[31m   \u001b[0m faiss/faiss/python/swigfaiss.i:527: Error: Unable to find 'faiss/impl/mapped_io.h'\n",
      "  \u001b[31m   \u001b[0m faiss/faiss/python/swigfaiss.i:528: Error: Unable to find 'faiss/impl/zerocopy_io.h'\n",
      "  \u001b[31m   \u001b[0m faiss/faiss/python/swigfaiss.i:531: Error: Unable to find 'faiss/IndexFlatCodes.h'\n",
      "  \u001b[31m   \u001b[0m faiss/faiss/python/swigfaiss.i:532: Error: Unable to find 'faiss/IndexFlat.h'\n",
      "  \u001b[31m   \u001b[0m faiss/faiss/python/swigfaiss.i:533: Error: Unable to find 'faiss/Clustering.h'\n",
      "  \u001b[31m   \u001b[0m faiss/faiss/python/swigfaiss.i:535: Error: Unable to find 'faiss/utils/extra_distances.h'\n",
      "  \u001b[31m   \u001b[0m faiss/faiss/python/swigfaiss.i:539: Error: Unable to find 'faiss/impl/Quantizer.h'\n",
      "  \u001b[31m   \u001b[0m faiss/faiss/python/swigfaiss.i:540: Error: Unable to find 'faiss/impl/ProductQuantizer.h'\n",
      "  \u001b[31m   \u001b[0m faiss/faiss/python/swigfaiss.i:541: Error: Unable to find 'faiss/impl/AdditiveQuantizer.h'\n",
      "  \u001b[31m   \u001b[0m faiss/faiss/python/swigfaiss.i:542: Error: Unable to find 'faiss/impl/residual_quantizer_encode_steps.h'\n",
      "  \u001b[31m   \u001b[0m faiss/faiss/python/swigfaiss.i:543: Error: Unable to find 'faiss/impl/ResidualQuantizer.h'\n",
      "  \u001b[31m   \u001b[0m faiss/faiss/python/swigfaiss.i:544: Error: Unable to find 'faiss/impl/LocalSearchQuantizer.h'\n",
      "  \u001b[31m   \u001b[0m faiss/faiss/python/swigfaiss.i:545: Error: Unable to find 'faiss/impl/ProductAdditiveQuantizer.h'\n",
      "  \u001b[31m   \u001b[0m faiss/faiss/python/swigfaiss.i:546: Error: Unable to find 'faiss/impl/CodePacker.h'\n",
      "  \u001b[31m   \u001b[0m faiss/faiss/python/swigfaiss.i:548: Error: Unable to find 'faiss/VectorTransform.h'\n",
      "  \u001b[31m   \u001b[0m faiss/faiss/python/swigfaiss.i:549: Error: Unable to find 'faiss/IndexPreTransform.h'\n",
      "  \u001b[31m   \u001b[0m faiss/faiss/python/swigfaiss.i:550: Error: Unable to find 'faiss/IndexRefine.h'\n",
      "  \u001b[31m   \u001b[0m faiss/faiss/python/swigfaiss.i:551: Error: Unable to find 'faiss/IndexLSH.h'\n",
      "  \u001b[31m   \u001b[0m faiss/faiss/python/swigfaiss.i:552: Error: Unable to find 'faiss/impl/PolysemousTraining.h'\n",
      "  \u001b[31m   \u001b[0m faiss/faiss/python/swigfaiss.i:553: Error: Unable to find 'faiss/IndexPQ.h'\n",
      "  \u001b[31m   \u001b[0m faiss/faiss/python/swigfaiss.i:554: Error: Unable to find 'faiss/IndexAdditiveQuantizer.h'\n",
      "  \u001b[31m   \u001b[0m faiss/faiss/python/swigfaiss.i:555: Error: Unable to find 'faiss/impl/io.h'\n",
      "  \u001b[31m   \u001b[0m faiss/faiss/python/swigfaiss.i:557: Error: Unable to find 'faiss/invlists/InvertedLists.h'\n",
      "  \u001b[31m   \u001b[0m faiss/faiss/python/swigfaiss.i:558: Error: Unable to find 'faiss/invlists/InvertedListsIOHook.h'\n",
      "  \u001b[31m   \u001b[0m faiss/faiss/python/swigfaiss.i:560: Error: Unable to find 'faiss/invlists/BlockInvertedLists.h'\n",
      "  \u001b[31m   \u001b[0m faiss/faiss/python/swigfaiss.i:561: Error: Unable to find 'faiss/invlists/DirectMap.h'\n",
      "  \u001b[31m   \u001b[0m faiss/faiss/python/swigfaiss.i:562: Error: Unable to find 'faiss/IndexIVF.h'\n",
      "  \u001b[31m   \u001b[0m faiss/faiss/python/swigfaiss.i:567: Error: Unable to find 'faiss/IVFlib.h'\n",
      "  \u001b[31m   \u001b[0m faiss/faiss/python/swigfaiss.i:568: Error: Unable to find 'faiss/impl/ScalarQuantizer.h'\n",
      "  \u001b[31m   \u001b[0m faiss/faiss/python/swigfaiss.i:569: Error: Unable to find 'faiss/IndexScalarQuantizer.h'\n",
      "  \u001b[31m   \u001b[0m faiss/faiss/python/swigfaiss.i:570: Error: Unable to find 'faiss/IndexIVFSpectralHash.h'\n",
      "  \u001b[31m   \u001b[0m faiss/faiss/python/swigfaiss.i:571: Error: Unable to find 'faiss/IndexIVFAdditiveQuantizer.h'\n",
      "  \u001b[31m   \u001b[0m faiss/faiss/python/swigfaiss.i:572: Error: Unable to find 'faiss/impl/HNSW.h'\n",
      "  \u001b[31m   \u001b[0m faiss/faiss/python/swigfaiss.i:573: Error: Unable to find 'faiss/IndexHNSW.h'\n",
      "  \u001b[31m   \u001b[0m faiss/faiss/python/swigfaiss.i:575: Error: Unable to find 'faiss/impl/kmeans1d.h'\n",
      "  \u001b[31m   \u001b[0m faiss/faiss/python/swigfaiss.i:578: Error: Unable to find 'faiss/impl/NNDescent.h'\n",
      "  \u001b[31m   \u001b[0m faiss/faiss/python/swigfaiss.i:579: Error: Unable to find 'faiss/IndexNNDescent.h'\n",
      "  \u001b[31m   \u001b[0m faiss/faiss/python/swigfaiss.i:581: Error: Unable to find 'faiss/IndexIVFFlat.h'\n",
      "  \u001b[31m   \u001b[0m faiss/faiss/python/swigfaiss.i:585: Error: Unable to find 'faiss/impl/NSG.h'\n",
      "  \u001b[31m   \u001b[0m faiss/faiss/python/swigfaiss.i:596: Error: Unable to find 'faiss/IndexNSG.h'\n",
      "  \u001b[31m   \u001b[0m faiss/faiss/python/swigfaiss.i:601: Error: Unable to find 'faiss/invlists/OnDiskInvertedLists.h'\n",
      "  \u001b[31m   \u001b[0m faiss/faiss/python/swigfaiss.i:604: Error: Unable to find 'faiss/impl/lattice_Zn.h'\n",
      "  \u001b[31m   \u001b[0m faiss/faiss/python/swigfaiss.i:605: Error: Unable to find 'faiss/IndexLattice.h'\n",
      "  \u001b[31m   \u001b[0m faiss/faiss/python/swigfaiss.i:608: Error: Unable to find 'faiss/IndexIVFPQ.h'\n",
      "  \u001b[31m   \u001b[0m faiss/faiss/python/swigfaiss.i:609: Error: Unable to find 'faiss/IndexIVFPQR.h'\n",
      "  \u001b[31m   \u001b[0m faiss/faiss/python/swigfaiss.i:610: Error: Unable to find 'faiss/Index2Layer.h'\n",
      "  \u001b[31m   \u001b[0m faiss/faiss/python/swigfaiss.i:612: Error: Unable to find 'faiss/IndexFastScan.h'\n",
      "  \u001b[31m   \u001b[0m faiss/faiss/python/swigfaiss.i:613: Error: Unable to find 'faiss/IndexAdditiveQuantizerFastScan.h'\n",
      "  \u001b[31m   \u001b[0m faiss/faiss/python/swigfaiss.i:614: Error: Unable to find 'faiss/IndexPQFastScan.h'\n",
      "  \u001b[31m   \u001b[0m faiss/faiss/python/swigfaiss.i:619: Error: Unable to find 'faiss/impl/simd_result_handlers.h'\n",
      "  \u001b[31m   \u001b[0m faiss/faiss/python/swigfaiss.i:620: Error: Unable to find 'faiss/IndexIVFFastScan.h'\n",
      "  \u001b[31m   \u001b[0m faiss/faiss/python/swigfaiss.i:621: Error: Unable to find 'faiss/IndexIVFAdditiveQuantizerFastScan.h'\n",
      "  \u001b[31m   \u001b[0m faiss/faiss/python/swigfaiss.i:622: Error: Unable to find 'faiss/IndexIVFIndependentQuantizer.h'\n",
      "  \u001b[31m   \u001b[0m faiss/faiss/python/swigfaiss.i:624: Error: Unable to find 'faiss/IndexIVFPQFastScan.h'\n",
      "  \u001b[31m   \u001b[0m faiss/faiss/python/swigfaiss.i:625: Error: Unable to find 'faiss/utils/quantize_lut.h'\n",
      "  \u001b[31m   \u001b[0m faiss/faiss/python/swigfaiss.i:627: Error: Unable to find 'faiss/IndexBinary.h'\n",
      "  \u001b[31m   \u001b[0m faiss/faiss/python/swigfaiss.i:628: Error: Unable to find 'faiss/IndexBinaryFlat.h'\n",
      "  \u001b[31m   \u001b[0m faiss/faiss/python/swigfaiss.i:629: Error: Unable to find 'faiss/IndexBinaryIVF.h'\n",
      "  \u001b[31m   \u001b[0m faiss/faiss/python/swigfaiss.i:630: Error: Unable to find 'faiss/IndexBinaryFromFloat.h'\n",
      "  \u001b[31m   \u001b[0m faiss/faiss/python/swigfaiss.i:631: Error: Unable to find 'faiss/IndexBinaryHNSW.h'\n",
      "  \u001b[31m   \u001b[0m faiss/faiss/python/swigfaiss.i:632: Error: Unable to find 'faiss/IndexBinaryHash.h'\n",
      "  \u001b[31m   \u001b[0m faiss/faiss/python/swigfaiss.i:634: Error: Unable to find 'faiss/impl/ThreadedIndex.h'\n",
      "  \u001b[31m   \u001b[0m faiss/faiss/python/swigfaiss.i:638: Error: Unable to find 'faiss/IndexShards.h'\n",
      "  \u001b[31m   \u001b[0m faiss/faiss/python/swigfaiss.i:641: Error: Unable to find 'faiss/IndexShardsIVF.h'\n",
      "  \u001b[31m   \u001b[0m faiss/faiss/python/swigfaiss.i:643: Error: Unable to find 'faiss/IndexReplicas.h'\n",
      "  \u001b[31m   \u001b[0m faiss/faiss/python/swigfaiss.i:647: Error: Unable to find 'faiss/MetaIndexes.h'\n",
      "  \u001b[31m   \u001b[0m faiss/faiss/python/swigfaiss.i:649: Error: Unable to find 'faiss/IndexRowwiseMinMax.h'\n",
      "  \u001b[31m   \u001b[0m faiss/faiss/python/swigfaiss.i:651: Error: Unable to find 'faiss/utils/NeuralNet.h'\n",
      "  \u001b[31m   \u001b[0m faiss/faiss/python/swigfaiss.i:655: Error: Unable to find 'faiss/IndexNeuralNetCodec.h'\n",
      "  \u001b[31m   \u001b[0m faiss/faiss/python/swigfaiss.i:657: Error: Unable to find 'faiss/impl/RaBitQuantizer.h'\n",
      "  \u001b[31m   \u001b[0m faiss/faiss/python/swigfaiss.i:658: Error: Unable to find 'faiss/IndexRaBitQ.h'\n",
      "  \u001b[31m   \u001b[0m faiss/faiss/python/swigfaiss.i:659: Error: Unable to find 'faiss/IndexIVFRaBitQ.h'\n",
      "  \u001b[31m   \u001b[0m faiss/faiss/python/swigfaiss.i:668: Error: Unable to find 'faiss/impl/AuxIndexStructures.h'\n",
      "  \u001b[31m   \u001b[0m faiss/faiss/python/swigfaiss.i:669: Error: Unable to find 'faiss/impl/IDSelector.h'\n",
      "  \u001b[31m   \u001b[0m faiss/faiss/python/swigfaiss.i:671: Error: Unable to find 'faiss/IndexIDMap.h'\n",
      "  \u001b[31m   \u001b[0m faiss/faiss/python/swigfaiss.i:678: Error: Unable to find 'faiss/utils/approx_topk/mode.h'\n",
      "  \u001b[31m   \u001b[0m faiss/faiss/python/swigfaiss.i:945: Error: Unable to find 'faiss/index_io.h'\n",
      "  \u001b[31m   \u001b[0m faiss/faiss/python/swigfaiss.i:946: Error: Unable to find 'faiss/clone_index.h'\n",
      "  \u001b[31m   \u001b[0m faiss/faiss/python/swigfaiss.i:950: Error: Unable to find 'faiss/AutoTune.h'\n",
      "  \u001b[31m   \u001b[0m faiss/faiss/python/swigfaiss.i:951: Error: Unable to find 'faiss/index_factory.h'\n",
      "  \u001b[31m   \u001b[0m faiss/faiss/python/swigfaiss.i:952: Error: Unable to find 'faiss/MatrixStats.h'\n",
      "  \u001b[31m   \u001b[0m error: command '/opt/homebrew/bin/swig' failed with exit code 1\n",
      "  \u001b[31m   \u001b[0m \u001b[31m[end of output]\u001b[0m\n",
      "  \n",
      "  \u001b[1;35mnote\u001b[0m: This error originates from a subprocess, and is likely not a problem with pip.\n",
      "\u001b[31m  ERROR: Failed building wheel for faiss-cpu\u001b[0m\u001b[31m\n",
      "\u001b[0m\u001b[?25hFailed to build faiss-cpu\n",
      "\u001b[1;31merror\u001b[0m: \u001b[1mfailed-wheel-build-for-install\u001b[0m\n",
      "\n",
      "\u001b[31m×\u001b[0m Failed to build installable wheels for some pyproject.toml based projects\n",
      "\u001b[31m╰─>\u001b[0m faiss-cpu\n"
     ]
    }
   ],
   "source": [
    "import sys\n",
    "print(sys.executable)  # make sure this ends with .../envs/faissdemo/bin/python\n",
    "\n",
    "# Install FAISS into THIS kernel\n",
    "!{sys.executable} -m pip install faiss-cpu"
   ]
  },
  {
   "cell_type": "code",
   "execution_count": 12,
   "id": "701a740d-a02a-472c-92d8-ea95506574c5",
   "metadata": {},
   "outputs": [
    {
     "name": "stdout",
     "output_type": "stream",
     "text": [
      "/Users/taranroyyuru/anaconda3/envs/faissok/bin/python\n",
      "1.9.0\n"
     ]
    }
   ],
   "source": [
    "import sys, faiss\n",
    "print(sys.executable)\n",
    "print(faiss.__version__)"
   ]
  },
  {
   "cell_type": "code",
   "execution_count": 13,
   "id": "dcf8b054-c04d-4685-95ae-f61bb143c660",
   "metadata": {},
   "outputs": [
    {
     "data": {
      "text/plain": [
       "<faiss.swigfaiss.IndexFlatL2; proxy of <Swig Object of type 'faiss::IndexFlatL2 *' at 0x28b922340> >"
      ]
     },
     "execution_count": 13,
     "metadata": {},
     "output_type": "execute_result"
    }
   ],
   "source": [
    "import faiss\n",
    "index = faiss.IndexFlatL2(dim)\n",
    "index"
   ]
  },
  {
   "cell_type": "code",
   "execution_count": 14,
   "id": "d2a266a6-bd95-4f98-838f-7ff70c36e271",
   "metadata": {},
   "outputs": [],
   "source": [
    "index.add(vectors)"
   ]
  },
  {
   "cell_type": "code",
   "execution_count": 23,
   "id": "da55d842-7302-49c3-ba59-4458b6ffa10e",
   "metadata": {},
   "outputs": [
    {
     "data": {
      "text/plain": [
       "(768,)"
      ]
     },
     "execution_count": 23,
     "metadata": {},
     "output_type": "execute_result"
    }
   ],
   "source": [
    "search_query = \"An apple a day keeps the doctor away\"\n",
    "\n",
    "vec = encoder.encode(search_query)\n",
    "vec.shape"
   ]
  },
  {
   "cell_type": "code",
   "execution_count": 24,
   "id": "cb675fa9-fe3d-41f6-a712-de465653cebd",
   "metadata": {},
   "outputs": [
    {
     "data": {
      "text/plain": [
       "(1, 768)"
      ]
     },
     "execution_count": 24,
     "metadata": {},
     "output_type": "execute_result"
    }
   ],
   "source": [
    "import numpy as np\n",
    "svec = np.array(vec).reshape(1,-1)\n",
    "svec.shape"
   ]
  },
  {
   "cell_type": "code",
   "execution_count": 25,
   "id": "c76dc633-fe37-4d77-a6a1-fedf49ea1664",
   "metadata": {},
   "outputs": [],
   "source": [
    "distances, I = index.search(svec, k = 2)"
   ]
  },
  {
   "cell_type": "code",
   "execution_count": 26,
   "id": "cbf80a60-fc4e-4c69-92ef-8c2cd027fe7b",
   "metadata": {},
   "outputs": [
    {
     "data": {
      "text/plain": [
       "array([[1, 0]])"
      ]
     },
     "execution_count": 26,
     "metadata": {},
     "output_type": "execute_result"
    }
   ],
   "source": [
    "I"
   ]
  },
  {
   "cell_type": "code",
   "execution_count": 27,
   "id": "1947531b-cec4-4c3d-a197-17c008af62d7",
   "metadata": {},
   "outputs": [
    {
     "data": {
      "text/html": [
       "<div>\n",
       "<style scoped>\n",
       "    .dataframe tbody tr th:only-of-type {\n",
       "        vertical-align: middle;\n",
       "    }\n",
       "\n",
       "    .dataframe tbody tr th {\n",
       "        vertical-align: top;\n",
       "    }\n",
       "\n",
       "    .dataframe thead th {\n",
       "        text-align: right;\n",
       "    }\n",
       "</style>\n",
       "<table border=\"1\" class=\"dataframe\">\n",
       "  <thead>\n",
       "    <tr style=\"text-align: right;\">\n",
       "      <th></th>\n",
       "      <th>text</th>\n",
       "      <th>category</th>\n",
       "    </tr>\n",
       "  </thead>\n",
       "  <tbody>\n",
       "    <tr>\n",
       "      <th>1</th>\n",
       "      <td>Fruits, whole grains and vegetables helps control blood pressure</td>\n",
       "      <td>Health</td>\n",
       "    </tr>\n",
       "    <tr>\n",
       "      <th>0</th>\n",
       "      <td>Meditation and yoga can improve mental health</td>\n",
       "      <td>Health</td>\n",
       "    </tr>\n",
       "  </tbody>\n",
       "</table>\n",
       "</div>"
      ],
      "text/plain": [
       "                                                               text category\n",
       "1  Fruits, whole grains and vegetables helps control blood pressure   Health\n",
       "0                     Meditation and yoga can improve mental health   Health"
      ]
     },
     "execution_count": 27,
     "metadata": {},
     "output_type": "execute_result"
    }
   ],
   "source": [
    "df.loc[I[0]]"
   ]
  },
  {
   "cell_type": "code",
   "execution_count": 28,
   "id": "73f4e129-7a59-4d18-a5d4-049788a055fe",
   "metadata": {},
   "outputs": [
    {
     "data": {
      "text/plain": [
       "'An apple a day keeps the doctor away'"
      ]
     },
     "execution_count": 28,
     "metadata": {},
     "output_type": "execute_result"
    }
   ],
   "source": [
    "search_query"
   ]
  },
  {
   "cell_type": "code",
   "execution_count": null,
   "id": "0ed8bafb-ff5f-46fb-900f-941928277b10",
   "metadata": {},
   "outputs": [],
   "source": []
  }
 ],
 "metadata": {
  "kernelspec": {
   "display_name": "Python (faissok)",
   "language": "python",
   "name": "faissok"
  },
  "language_info": {
   "codemirror_mode": {
    "name": "ipython",
    "version": 3
   },
   "file_extension": ".py",
   "mimetype": "text/x-python",
   "name": "python",
   "nbconvert_exporter": "python",
   "pygments_lexer": "ipython3",
   "version": "3.10.18"
  }
 },
 "nbformat": 4,
 "nbformat_minor": 5
}
